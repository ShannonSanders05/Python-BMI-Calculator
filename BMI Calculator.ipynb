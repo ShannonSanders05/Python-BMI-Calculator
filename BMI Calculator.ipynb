{
 "cells": [
  {
   "cell_type": "code",
   "execution_count": 2,
   "id": "2ffdb4b6",
   "metadata": {},
   "outputs": [
    {
     "name": "stdout",
     "output_type": "stream",
     "text": [
      "Enter you name: Shannon Sanders\n",
      "Enter your weight in pounds: 183\n",
      "Enter your height (Feet Inches): 6 1\n",
      "BMI =  24.1\n",
      "Shannon Sanders, you are normal weight.\n"
     ]
    }
   ],
   "source": [
    "name = input('Enter you name: ')\n",
    "\n",
    "weight = int(input('Enter your weight in pounds: '))\n",
    "\n",
    "foot, inch = input('Enter your height (Feet Inches): ').split()\n",
    "\n",
    "height = (int(foot) * 12) + int(inch)\n",
    "\n",
    "BMI = (weight * 703) / (height * height)\n",
    "\n",
    "print('BMI = ',round(BMI,1))\n",
    "\n",
    "if BMI > 0:\n",
    "    if (BMI < 18.5):\n",
    "        print(name + ', you are underweight.')\n",
    "    elif (BMI <= 24.9):\n",
    "        print(name + ', you are normal weight.')\n",
    "    elif (BMI <= 29.9):\n",
    "        print(name + ', you are overweight.')\n",
    "    elif (BMI <= 34.9):\n",
    "        print(name + ', you are obese.')\n",
    "    elif (BMI <= 39.9):\n",
    "        print(name + ', you are severely obese.')\n",
    "    else:\n",
    "        print(name + ', you are morbidly obese.')\n",
    "else:\n",
    "    print('Enter valid input')"
   ]
  },
  {
   "cell_type": "code",
   "execution_count": null,
   "id": "b444a75e",
   "metadata": {},
   "outputs": [],
   "source": []
  },
  {
   "cell_type": "code",
   "execution_count": null,
   "id": "f5413a34",
   "metadata": {},
   "outputs": [],
   "source": []
  },
  {
   "cell_type": "code",
   "execution_count": null,
   "id": "370aff08",
   "metadata": {},
   "outputs": [],
   "source": []
  },
  {
   "cell_type": "code",
   "execution_count": null,
   "id": "aab1647a",
   "metadata": {},
   "outputs": [],
   "source": []
  },
  {
   "cell_type": "code",
   "execution_count": null,
   "id": "8ec8fc30",
   "metadata": {},
   "outputs": [],
   "source": []
  }
 ],
 "metadata": {
  "kernelspec": {
   "display_name": "Python 3 (ipykernel)",
   "language": "python",
   "name": "python3"
  },
  "language_info": {
   "codemirror_mode": {
    "name": "ipython",
    "version": 3
   },
   "file_extension": ".py",
   "mimetype": "text/x-python",
   "name": "python",
   "nbconvert_exporter": "python",
   "pygments_lexer": "ipython3",
   "version": "3.11.5"
  }
 },
 "nbformat": 4,
 "nbformat_minor": 5
}
